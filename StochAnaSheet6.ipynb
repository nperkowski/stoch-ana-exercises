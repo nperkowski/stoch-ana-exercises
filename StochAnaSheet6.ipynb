{
 "cells": [
  {
   "cell_type": "markdown",
   "metadata": {},
   "source": [
    "## Programming Exercise 2: Stochastic integral\n",
    "\n",
    "In this exercise we will try to numerically compute a realization of a simple stochastic integral, and we will see that things go wrong if we are too naive."
   ]
  },
  {
   "cell_type": "code",
   "execution_count": 200,
   "metadata": {},
   "outputs": [],
   "source": [
    "%matplotlib inline\n",
    "import numpy as np\n",
    "from matplotlib import pyplot as plt"
   ]
  },
  {
   "cell_type": "markdown",
   "metadata": {},
   "source": [
    "We define\n",
    "$$t_k = \\frac{k}{1000},\\qquad k=0,\\dots, 5000.$$\n",
    "Create a vector dB of Brownian increments\n",
    "$$(B_{t_1} - B_{t_0}, B_{t_2}-B_{t_1}, \\dots, B_{t_{5000}} - B_{t_{4999}}).$$\n",
    "All of the following integrals and processes should be defined as functions of this dB."
   ]
  },
  {
   "cell_type": "code",
   "execution_count": 1,
   "metadata": {},
   "outputs": [],
   "source": [
    "#TODO: your implementation goes here."
   ]
  },
  {
   "cell_type": "markdown",
   "metadata": {},
   "source": [
    "Create a vector B consisting of $(B_{t_0}, B_{t_1}, \\dots, B_{t_{5000}})$. Be careful with np.cumsum: What would this give for B[0]?"
   ]
  },
  {
   "cell_type": "code",
   "execution_count": 3,
   "metadata": {},
   "outputs": [],
   "source": [
    "#TODO: your implementation goes here."
   ]
  },
  {
   "cell_type": "markdown",
   "metadata": {},
   "source": [
    "Simulate the following discrete integrals:\n",
    "$$\n",
    "    I_1(t) = \\sum_{k: t_{k+1} \\le t} B_{t_k}(B_{t_{k+1}} - B_{t_k}),\\qquad \\text{for } t=t_0, \\dots, t_{5000},\n",
    "$$\n",
    "and\n",
    "$$\n",
    "    I_2(t) = \\sum_{k: t_{k+1} \\le t} B_{t_{k+1}}(B_{t_{k+1}} - B_{t_k}),\\qquad \\text{for } t=t_0, \\dots, t_{5000},\n",
    "$$\n",
    "as well as the function\n",
    "$$\n",
    "    \\frac12 (B_t^2 - t), \\qquad \\text{for } t=t_0, \\dots, t_{5000}.\n",
    "$$"
   ]
  },
  {
   "cell_type": "code",
   "execution_count": 4,
   "metadata": {},
   "outputs": [],
   "source": [
    "#TODO: your implementation goes here."
   ]
  },
  {
   "cell_type": "markdown",
   "metadata": {},
   "source": [
    "Create five plots to show the following functions for $t = t_0, \\dots, t_{5000}$:\n",
    "$$\n",
    "    \\qquad I_1(t), \\qquad \\frac{1}{2}(B_t^2 - t), \\qquad I_2(t), \\qquad I_2(t) - I_1(t), \\qquad I_1(t) - \\frac{1}{2}(B_t^2 - t).\n",
    "$$\n",
    "Can you explain the discrepancy between $I_1$ and $I_2$? What would you expect to see in the last plot, and does the outcome match your expectation?"
   ]
  },
  {
   "cell_type": "code",
   "execution_count": 5,
   "metadata": {},
   "outputs": [],
   "source": [
    "#TODO: your implementation goes here."
   ]
  }
 ],
 "metadata": {
  "kernelspec": {
   "display_name": "Python 3",
   "language": "python",
   "name": "python3"
  },
  "language_info": {
   "codemirror_mode": {
    "name": "ipython",
    "version": 3
   },
   "file_extension": ".py",
   "mimetype": "text/x-python",
   "name": "python",
   "nbconvert_exporter": "python",
   "pygments_lexer": "ipython3",
   "version": "3.7.4"
  }
 },
 "nbformat": 4,
 "nbformat_minor": 2
}
