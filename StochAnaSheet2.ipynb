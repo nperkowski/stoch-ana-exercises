{
 "cells": [
  {
   "cell_type": "markdown",
   "metadata": {},
   "source": [
    "# Programming Exercise 1: Donsker's invariance principle\n",
    "\n",
    "From time to time there will be little programming exercises as part of the homework. They will all be set up in online notebooks like this, and you do not have to install anything. We use Python, which with its Numpy and Matplotlib packages is a very powerful tool for mathematical simulations and which also is the standard programming language in data science. To get started with Python and Numpy, you can have a look at\n",
    "\n",
    "https://docs.scipy.org/doc/numpy/user/quickstart.html\n",
    "or\n",
    "https://docs.python.org/3/tutorial/\n",
    "\n",
    "But there are many great online resources, also Youtube might be helpful.\n",
    "\n",
    "Once you have completed the task, please save your solution under \"File->Download as->Python (.py)\" and upload the exported file via the FU Whiteboard system.\n",
    "\n",
    "First let us import the libraries that we will need. The option \"%matplotlib inline\" is supposed to make Matplotlib work better with our Notebook."
   ]
  },
  {
   "cell_type": "code",
   "execution_count": 3,
   "metadata": {},
   "outputs": [],
   "source": [
    "%matplotlib inline\n",
    "import numpy as np\n",
    "from matplotlib import pyplot as plt"
   ]
  },
  {
   "cell_type": "markdown",
   "metadata": {},
   "source": [
    "To give you an example that can serve as inspiration, we first simulate and plot the sine and the cosine functions:"
   ]
  },
  {
   "cell_type": "code",
   "execution_count": 7,
   "metadata": {},
   "outputs": [],
   "source": [
    "time = np.arange(0,4*np.pi,0.1)\n",
    "sine = np.sin(time)\n",
    "\n",
    "plt.plot(time,sine)\n",
    "plt.show()\n",
    "\n",
    "cosine = np.cos(time)\n",
    "plt.plot(time,cosine)\n",
    "plt.show()"
   ]
  },
  {
   "cell_type": "markdown",
   "metadata": {},
   "source": [
    "Now let's start with the exercise: Choose your favorite probability distribution from\n",
    "https://docs.scipy.org/doc/numpy-1.14.0/reference/routines.random.html\n",
    "and make sure that it has expectation 0 and variance 1 (either by choosing the right parameter or by rescaling it). Let $(X_k)_{k \\in \\mathbb N}$ be an i.i.d. sequence of random variables with your distribution. Plot the process $(S^n_t)_{t \\in [0,1]}$ from Section 2.2 of the lecture notes for $n=20, 100, 1000, 10000$.\n",
    "\n",
    "Hint: https://docs.scipy.org/doc/numpy/reference/generated/numpy.cumsum.html"
   ]
  },
  {
   "cell_type": "code",
   "execution_count": 3,
   "metadata": {},
   "outputs": [],
   "source": [
    "#TODO: your implementation goes here."
   ]
  },
  {
   "cell_type": "markdown",
   "metadata": {},
   "source": [
    "Now simulate a Brownian motion $(B_t)_{t \\in [0,1]}$ with a step size of 0.01 and plot it.\n",
    "\n",
    "(Hint: how are the increments $(B_{0.01} - B_0, B_{0.02}-B_{0.01}, \\dots, B_1 - B_{0.99})$ distributed?)"
   ]
  },
  {
   "cell_type": "code",
   "execution_count": 6,
   "metadata": {},
   "outputs": [],
   "source": [
    "#TODO: your implementation goes here."
   ]
  },
  {
   "cell_type": "markdown",
   "metadata": {},
   "source": [
    "Next, simulate the running maximum of the rescaled random walk and plot it:\n",
    "$$\n",
    "    M^n_t = max_{s \\in [0,t]} S^n_s.\n",
    "$$"
   ]
  },
  {
   "cell_type": "code",
   "execution_count": 28,
   "metadata": {},
   "outputs": [],
   "source": [
    "#TODO: your implementation goes here."
   ]
  },
  {
   "cell_type": "markdown",
   "metadata": {},
   "source": [
    "This last part of the exercise is voluntary. Our aim is to create a movie that illustrates Donsker's invariance principle. This short tutorial explains very well how to create simple movies: https://jakevdp.github.io/blog/2012/08/18/matplotlib-animation-tutorial/, see also http://louistiao.me/posts/notebooks/embedding-matplotlib-animations-in-jupyter-notebooks/ for an adaptation that displays the movie directly in our notebook.\n",
    "\n",
    "The following code is a slight adaptation from these tutorials and might also serve as inspiration:"
   ]
  },
  {
   "cell_type": "code",
   "execution_count": 5,
   "metadata": {
    "scrolled": true
   },
   "outputs": [],
   "source": [
    "from matplotlib import animation, rc\n",
    "from IPython.display import HTML\n",
    "\n",
    "# First set up the figure, the axis, and the plot element we want to animate\n",
    "fig, ax = plt.subplots()\n",
    "ax.set_autoscale_on(True)\n",
    "line, = ax.plot([], [], lw=2)\n",
    "\n",
    "\n",
    "# initialization function: plot the background of each frame\n",
    "def init():\n",
    "    line.set_data([], [])\n",
    "    return (line,)\n",
    "\n",
    "# animation function.  This is called sequentially\n",
    "def animate_example(i):\n",
    "    x = np.linspace(0, 10+i, 1000)\n",
    "    y = x*np.sin(np.power(x,0.8))\n",
    "    line.set_data(x, y)\n",
    "    ax.relim()\n",
    "    ax.autoscale_view(tight=False,scalex=True,scaley=True)\n",
    "    return line,\n",
    "\n",
    "# call the animator.  blit=True means only re-draw the parts that have changed.\n",
    "anim_example = animation.FuncAnimation(fig, animate_example, init_func=init,\n",
    "                               frames=np.arange(0, 250, 0.5), interval=20, blit=True)\n",
    "\n",
    "\n",
    "rc('animation', html='html5')\n",
    "HTML(anim_example.to_html5_video())"
   ]
  },
  {
   "cell_type": "markdown",
   "metadata": {},
   "source": [
    "Create a movie in which you simulate a random walk and then zoom out with the scaling of Donsker's invariance principle."
   ]
  },
  {
   "cell_type": "code",
   "execution_count": 1,
   "metadata": {},
   "outputs": [],
   "source": [
    "#TODO: your implementation goes here."
   ]
  }
 ],
 "metadata": {
  "kernelspec": {
   "display_name": "Python 3",
   "language": "python",
   "name": "python3"
  },
  "language_info": {
   "codemirror_mode": {
    "name": "ipython",
    "version": 3
   },
   "file_extension": ".py",
   "mimetype": "text/x-python",
   "name": "python",
   "nbconvert_exporter": "python",
   "pygments_lexer": "ipython3",
   "version": "3.7.4"
  }
 },
 "nbformat": 4,
 "nbformat_minor": 2
}
