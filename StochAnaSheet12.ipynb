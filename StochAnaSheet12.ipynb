{
 "cells": [
  {
   "cell_type": "markdown",
   "metadata": {},
   "source": [
    "## Programming Exercise 3: The Euler-Maruyama scheme\n",
    "\n",
    "In this exercise we will use the Euler-Maruyama scheme to simulate some stochastic differential equations."
   ]
  },
  {
   "cell_type": "code",
   "execution_count": 141,
   "metadata": {},
   "outputs": [],
   "source": [
    "%matplotlib inline\n",
    "import numpy as np\n",
    "from matplotlib import pyplot as plt"
   ]
  },
  {
   "cell_type": "markdown",
   "metadata": {},
   "source": [
    "Let\n",
    "$$h = \\frac{1}{1000}=10^{-3},\\qquad T=5.$$\n",
    "Use the Euler-Maruyama scheme to simulate 50 trajectories of an Ornstein-Uhlenbeck process\n",
    "$$dX_t = a(\\mu-X_t) dt + \\sigma dB_t, \\qquad X_0 = x,$$\n",
    "where you can choose $x,a,\\mu \\in \\mathbb R$ and $\\sigma > 0$. You should take a new realization of the Brownian motion for each of the 50 trajectories. Plot the resulting curves all in one plot.\n",
    "\n",
    "Do this three times, creating overall three plots for three different choices of the parameters. Which parameters did you choose and why do you find this choice interesting?"
   ]
  },
  {
   "cell_type": "code",
   "execution_count": 5,
   "metadata": {},
   "outputs": [],
   "source": [
    "#TODO: your implementation goes here.\n"
   ]
  },
  {
   "cell_type": "markdown",
   "metadata": {},
   "source": [
    "$\\textbf{Give the justification for your choice of parameters here.}$\n",
    "\n"
   ]
  },
  {
   "cell_type": "markdown",
   "metadata": {},
   "source": [
    "Let $h$ and $T$ be as before and simulate now the Brownian motion on the circle, i.e. the solution to the SDE\n",
    "$$\n",
    "   dX_t =- \\frac12 X_t dt + \\left(\\begin{array}{rr}\n",
    "0 & -1  \\\\\n",
    "1 & 0\n",
    "\\end{array}\\right) X_t dB_t ,\\qquad X_0 = \\left(\\begin{array}{rr}1 \\\\0\\end{array}\\right),\n",
    "$$\n",
    "where $B$ is a one-dimensional Brownian motion. Use the Euler scheme to simulate one trajectory of the solution and plot it (note that $X$ describes a curve in $\\mathbb R^2$ if you do not plot it against the time variable, but if you want you can also create a 3d plot including the time variable).\n",
    "\n",
    "Is this result satisfactory?"
   ]
  },
  {
   "cell_type": "code",
   "execution_count": 4,
   "metadata": {},
   "outputs": [],
   "source": [
    "#TODO: your implementation goes here.\n"
   ]
  },
  {
   "cell_type": "markdown",
   "metadata": {},
   "source": []
  }
 ],
 "metadata": {
  "kernelspec": {
   "display_name": "Python 3",
   "language": "python",
   "name": "python3"
  },
  "language_info": {
   "codemirror_mode": {
    "name": "ipython",
    "version": 3
   },
   "file_extension": ".py",
   "mimetype": "text/x-python",
   "name": "python",
   "nbconvert_exporter": "python",
   "pygments_lexer": "ipython3",
   "version": "3.7.4"
  }
 },
 "nbformat": 4,
 "nbformat_minor": 2
}
